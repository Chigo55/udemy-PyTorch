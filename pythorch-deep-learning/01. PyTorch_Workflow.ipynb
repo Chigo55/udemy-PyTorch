{
 "cells": [
  {
   "cell_type": "markdown",
   "metadata": {},
   "source": [
    "# PyTorch workflow\n",
    "\n",
    "Let's explore aa an example PyTorch end-toend workflow"
   ]
  },
  {
   "cell_type": "code",
   "execution_count": 1,
   "metadata": {},
   "outputs": [
    {
     "data": {
      "text/plain": [
       "{1: 'data (prepare and load)',\n",
       " 2: 'build model',\n",
       " 3: 'fitting the model to data',\n",
       " 4: 'making predictions and evaluating a model (inference)',\n",
       " 5: 'saving and loading a model',\n",
       " 6: 'putting it all together'}"
      ]
     },
     "execution_count": 1,
     "metadata": {},
     "output_type": "execute_result"
    }
   ],
   "source": [
    "what_were_covering = {1: 'data (prepare and load)',\n",
    "                      2: 'build model',\n",
    "                      3: 'fitting the model to data',\n",
    "                      4: 'making predictions and evaluating a model (inference)',\n",
    "                      5: 'saving and loading a model', \n",
    "                      6: 'putting it all together'}\n",
    "what_were_covering"
   ]
  },
  {
   "cell_type": "code",
   "execution_count": 2,
   "metadata": {},
   "outputs": [
    {
     "data": {
      "text/plain": [
       "'2.3.1+cu118'"
      ]
     },
     "execution_count": 2,
     "metadata": {},
     "output_type": "execute_result"
    }
   ],
   "source": [
    "import torch\n",
    "from torch import nn # nn contains all of PyTorch's building block ofr neural networks.\n",
    "import matplotlib.pyplot as plt\n",
    "\n",
    "# Check Pytorch version\n",
    "torch.__version__"
   ]
  },
  {
   "cell_type": "markdown",
   "metadata": {},
   "source": [
    "## 1. Data (preparing and loading)\n",
    "\n",
    "Data and be almost anything... in machine learning\n",
    "\n",
    "* Excel spreadsheet\n",
    "* Images of any kind\n",
    "* Videos (YouTube has lots of data...)\n",
    "* Audio like songs or podcasts\n",
    "* DNA\n",
    "* Text\n",
    "\n",
    "Machine learning is a gane of tow parts:\n",
    "1. Gets data into a numerical representaion\n",
    "2. Build a model to learn patterns in that numerical representaion.\n",
    "\n",
    "To showcase this, let's create some *known* data using the linear regression formula.   \n",
    "We'll use a linear regression formula to make a straight line with known **parameters**."
   ]
  },
  {
   "cell_type": "code",
   "execution_count": 3,
   "metadata": {},
   "outputs": [
    {
     "data": {
      "text/plain": [
       "(tensor([[0.0000],\n",
       "         [0.0200],\n",
       "         [0.0400],\n",
       "         [0.0600],\n",
       "         [0.0800],\n",
       "         [0.1000],\n",
       "         [0.1200],\n",
       "         [0.1400],\n",
       "         [0.1600],\n",
       "         [0.1800]]),\n",
       " tensor([[0.3000],\n",
       "         [0.3140],\n",
       "         [0.3280],\n",
       "         [0.3420],\n",
       "         [0.3560],\n",
       "         [0.3700],\n",
       "         [0.3840],\n",
       "         [0.3980],\n",
       "         [0.4120],\n",
       "         [0.4260]]))"
      ]
     },
     "execution_count": 3,
     "metadata": {},
     "output_type": "execute_result"
    }
   ],
   "source": [
    "# Create * known* parameters\n",
    "weight = 0.7\n",
    "bias = 0.3\n",
    "\n",
    "# Create\n",
    "start = 0\n",
    "end = 1\n",
    "step = 0.02\n",
    "X = torch.arange(start, end, step).unsqueeze(dim=1)\n",
    "y = weight * X + bias\n",
    "\n",
    "X[:10], y[:10]"
   ]
  },
  {
   "cell_type": "code",
   "execution_count": 4,
   "metadata": {},
   "outputs": [
    {
     "data": {
      "text/plain": [
       "(50, 50)"
      ]
     },
     "execution_count": 4,
     "metadata": {},
     "output_type": "execute_result"
    }
   ],
   "source": [
    "len(X), len(y)"
   ]
  },
  {
   "cell_type": "markdown",
   "metadata": {},
   "source": [
    "### Splitting data into training and test data (one of the most important concept in machine learning in general)\n",
    "Let's create a training and test set with our data."
   ]
  },
  {
   "cell_type": "code",
   "execution_count": 5,
   "metadata": {},
   "outputs": [
    {
     "data": {
      "text/plain": [
       "(40, 40, 10, 10)"
      ]
     },
     "execution_count": 5,
     "metadata": {},
     "output_type": "execute_result"
    }
   ],
   "source": [
    "# create a train/test split \n",
    "train_split = int(0.8 * len(X))\n",
    "X_train, y_train = X[:train_split], y[:train_split]\n",
    "X_test, y_test = X[train_split:], y[train_split:]\n",
    "\n",
    "len(X_train), len(y_train), len(X_test), len(y_test)"
   ]
  },
  {
   "cell_type": "code",
   "execution_count": 6,
   "metadata": {},
   "outputs": [
    {
     "data": {
      "text/plain": [
       "(tensor([[0.0000],\n",
       "         [0.0200],\n",
       "         [0.0400],\n",
       "         [0.0600],\n",
       "         [0.0800],\n",
       "         [0.1000],\n",
       "         [0.1200],\n",
       "         [0.1400],\n",
       "         [0.1600],\n",
       "         [0.1800],\n",
       "         [0.2000],\n",
       "         [0.2200],\n",
       "         [0.2400],\n",
       "         [0.2600],\n",
       "         [0.2800],\n",
       "         [0.3000],\n",
       "         [0.3200],\n",
       "         [0.3400],\n",
       "         [0.3600],\n",
       "         [0.3800],\n",
       "         [0.4000],\n",
       "         [0.4200],\n",
       "         [0.4400],\n",
       "         [0.4600],\n",
       "         [0.4800],\n",
       "         [0.5000],\n",
       "         [0.5200],\n",
       "         [0.5400],\n",
       "         [0.5600],\n",
       "         [0.5800],\n",
       "         [0.6000],\n",
       "         [0.6200],\n",
       "         [0.6400],\n",
       "         [0.6600],\n",
       "         [0.6800],\n",
       "         [0.7000],\n",
       "         [0.7200],\n",
       "         [0.7400],\n",
       "         [0.7600],\n",
       "         [0.7800]]),\n",
       " tensor([[0.3000],\n",
       "         [0.3140],\n",
       "         [0.3280],\n",
       "         [0.3420],\n",
       "         [0.3560],\n",
       "         [0.3700],\n",
       "         [0.3840],\n",
       "         [0.3980],\n",
       "         [0.4120],\n",
       "         [0.4260],\n",
       "         [0.4400],\n",
       "         [0.4540],\n",
       "         [0.4680],\n",
       "         [0.4820],\n",
       "         [0.4960],\n",
       "         [0.5100],\n",
       "         [0.5240],\n",
       "         [0.5380],\n",
       "         [0.5520],\n",
       "         [0.5660],\n",
       "         [0.5800],\n",
       "         [0.5940],\n",
       "         [0.6080],\n",
       "         [0.6220],\n",
       "         [0.6360],\n",
       "         [0.6500],\n",
       "         [0.6640],\n",
       "         [0.6780],\n",
       "         [0.6920],\n",
       "         [0.7060],\n",
       "         [0.7200],\n",
       "         [0.7340],\n",
       "         [0.7480],\n",
       "         [0.7620],\n",
       "         [0.7760],\n",
       "         [0.7900],\n",
       "         [0.8040],\n",
       "         [0.8180],\n",
       "         [0.8320],\n",
       "         [0.8460]]))"
      ]
     },
     "execution_count": 6,
     "metadata": {},
     "output_type": "execute_result"
    }
   ],
   "source": [
    "X_train, y_train"
   ]
  },
  {
   "cell_type": "markdown",
   "metadata": {},
   "source": [
    "How might we better visualize our data?   \n",
    "This is where tihe data explorer's motto comes in!   \n",
    "\"Visualize, visualize, visualize!\""
   ]
  },
  {
   "cell_type": "code",
   "execution_count": 7,
   "metadata": {},
   "outputs": [],
   "source": [
    "def plot_predictions(train_data=X_train,\n",
    "                     train_label=y_train,\n",
    "                     test_data=X_test,\n",
    "                     test_label=y_test,\n",
    "                     predictions=None):\n",
    "    \n",
    "    \"\"\"\n",
    "    Plots training data, test data and compare predictions.\n",
    "    \"\"\"\n",
    "\n",
    "    plt.figure(figsize=(10, 7))\n",
    "\n",
    "    # Plto training data in blue\n",
    "    plt.scatter(train_data, train_label, c='b', s=4, label='Training data')\n",
    "    \n",
    "    # Plto test data in blue\n",
    "    plt.scatter(test_data, test_label, c='g', s=4, label='Testing data')\n",
    "\n",
    "    # Are therepredictions?\n",
    "    if predictions is not None:\n",
    "        # Plot the predictions if they exist\n",
    "        plt.scatter(test_data, predictions, c='r', s=4, label='Predicitions')\n",
    "\n",
    "    # Show the legend\n",
    "    plt.legend(prop={'size': 14})\n",
    "    "
   ]
  },
  {
   "cell_type": "code",
   "execution_count": 8,
   "metadata": {},
   "outputs": [
    {
     "data": {
      "image/png": "[encoded data removed]",
      "text/plain": [
       "<Figure size 1000x700 with 1 Axes>"
      ]
     },
     "metadata": {},
     "output_type": "display_data"
    }
   ],
   "source": [
    "plot_predictions()"
   ]
  },
  {
   "cell_type": "markdown",
   "metadata": {},
   "source": [
    "## 2. Build model\n",
    "\n",
    "Our first PyTorch model   \n",
    "This is very exciting... let's do it!   \n",
    "   \n",
    "Because we're going to be building classes throughout the course, I'd recommend getting familiar with OOP in Python, to do so you can use the following resource from Real Python   \n",
    "\n",
    "What our model does:\n",
    "* Start with randoim values (weight & bias)\n",
    "* Look at training data and adjust the random value to better represent (or get closer to) the ideal values (the weight & bias values we uesd to create the data)\n",
    "\n",
    "How does it do so?   \n",
    "   \n",
    "Through tow main algorithms:\n",
    "1. Gradient descent\n",
    "2. Backpropagation"
   ]
  },
  {
   "cell_type": "code",
   "execution_count": 9,
   "metadata": {},
   "outputs": [],
   "source": [
    "from torch import nn\n",
    "# Create linear regression model class\n",
    "class linearRegrssionModel(nn.Module): # <- almost everything in PyTorch inherhits from nn.module\n",
    "    def __init__(self):\n",
    "        super().__init__()\n",
    "        self.weights = nn.Parameter(torch.randn(\n",
    "            1, \n",
    "            requires_grad=True, \n",
    "            dtype=torch.float\n",
    "        ))\n",
    "        self.bias = nn.Parameter(torch.randn(\n",
    "            1, \n",
    "            requires_grad=True, \n",
    "            dtype=torch.float\n",
    "        ))\n",
    "\n",
    "    # Forward method to define the computation in the model\n",
    "    def forward(self, x: torch.Tensor) -> torch.Tensor: # 'x' is the input data\n",
    "        return self.weights * x + self.bias # this is the linear regression formular"
   ]
  },
  {
   "cell_type": "markdown",
   "metadata": {},
   "source": [
    "### PyTorch model building essentials\n",
    "* torch.nn = contains all of the buildings ofr computational graphs (a neural network can be considered a computational graph)\n",
    "* torch.nn.Parameter - what parameters should our model try and learn, often a PyTorch layer from torch.nn will set these for us\n",
    "* torch.nn.Module - The bass class ofr all neural network modules, if you shoud overwrite forward()\n",
    "* torch.optim - this where the optimizers in PyTorch live, they will help with gradient descent\n",
    "* def forward() - all nn.Module subclass require you to overwrite forawrd(), this method defines what happens in the forward computation"
   ]
  },
  {
   "cell_type": "markdown",
   "metadata": {},
   "source": [
    "### Checking hte contents of our PyTorch model\n",
    "\n",
    "Now we've created a model, let's see what's inside   \n",
    "So we can check out model parameters or what's inside our model using `.parameters()`."
   ]
  },
  {
   "cell_type": "code",
   "execution_count": 10,
   "metadata": {},
   "outputs": [
    {
     "data": {
      "text/plain": [
       "[Parameter containing:\n",
       " tensor([0.3367], requires_grad=True),\n",
       " Parameter containing:\n",
       " tensor([0.1288], requires_grad=True)]"
      ]
     },
     "execution_count": 10,
     "metadata": {},
     "output_type": "execute_result"
    }
   ],
   "source": [
    "# Create a random seed\n",
    "torch.manual_seed(42)\n",
    "\n",
    "# Create an instance of the model(this is a subclass of nn.Modeule)\n",
    "model = linearRegrssionModel()\n",
    "\n",
    "# Check put the parameters\n",
    "list(model.parameters())"
   ]
  },
  {
   "cell_type": "code",
   "execution_count": 11,
   "metadata": {},
   "outputs": [
    {
     "data": {
      "text/plain": [
       "OrderedDict([('weights', tensor([0.3367])), ('bias', tensor([0.1288]))])"
      ]
     },
     "execution_count": 11,
     "metadata": {},
     "output_type": "execute_result"
    }
   ],
   "source": [
    "# List name parameters\n",
    "model.state_dict()"
   ]
  },
  {
   "cell_type": "code",
   "execution_count": 12,
   "metadata": {},
   "outputs": [
    {
     "data": {
      "text/plain": [
       "(0.7, 0.3)"
      ]
     },
     "execution_count": 12,
     "metadata": {},
     "output_type": "execute_result"
    }
   ],
   "source": [
    "weight, bias"
   ]
  },
  {
   "cell_type": "markdown",
   "metadata": {},
   "source": [
    "### Making prediction using `torch.inference_mode()`\n",
    "To chech our model's predictive power, let's see how well it predicts `y_test` based on `X_test`\n",
    "    \n",
    "When we pass data through out model, it's going to run it through the `forward()` method"
   ]
  },
  {
   "cell_type": "code",
   "execution_count": 13,
   "metadata": {},
   "outputs": [
    {
     "data": {
      "text/plain": [
       "(tensor([[0.8000],\n",
       "         [0.8200],\n",
       "         [0.8400],\n",
       "         [0.8600],\n",
       "         [0.8800],\n",
       "         [0.9000],\n",
       "         [0.9200],\n",
       "         [0.9400],\n",
       "         [0.9600],\n",
       "         [0.9800]]),\n",
       " tensor([[0.8600],\n",
       "         [0.8740],\n",
       "         [0.8880],\n",
       "         [0.9020],\n",
       "         [0.9160],\n",
       "         [0.9300],\n",
       "         [0.9440],\n",
       "         [0.9580],\n",
       "         [0.9720],\n",
       "         [0.9860]]))"
      ]
     },
     "execution_count": 13,
     "metadata": {},
     "output_type": "execute_result"
    }
   ],
   "source": [
    "X_test, y_test"
   ]
  },
  {
   "cell_type": "code",
   "execution_count": 14,
   "metadata": {},
   "outputs": [
    {
     "data": {
      "text/plain": [
       "tensor([[0.3982],\n",
       "        [0.4049],\n",
       "        [0.4116],\n",
       "        [0.4184],\n",
       "        [0.4251],\n",
       "        [0.4318],\n",
       "        [0.4386],\n",
       "        [0.4453],\n",
       "        [0.4520],\n",
       "        [0.4588]])"
      ]
     },
     "execution_count": 14,
     "metadata": {},
     "output_type": "execute_result"
    }
   ],
   "source": [
    "# Make presions with model\n",
    "with torch.inference_mode():\n",
    "    y_pred = model(X_test)\n",
    "\n",
    "# You can also do somthing similar with torch.no_grad(), however, torch.inference_mode() is preffered\n",
    "# with torch.inference_mode():\n",
    "#     y_pred = model(X_test)\n",
    "y_pred"
   ]
  },
  {
   "cell_type": "code",
   "execution_count": 15,
   "metadata": {},
   "outputs": [
    {
     "data": {
      "text/plain": [
       "tensor([[0.8600],\n",
       "        [0.8740],\n",
       "        [0.8880],\n",
       "        [0.9020],\n",
       "        [0.9160],\n",
       "        [0.9300],\n",
       "        [0.9440],\n",
       "        [0.9580],\n",
       "        [0.9720],\n",
       "        [0.9860]])"
      ]
     },
     "execution_count": 15,
     "metadata": {},
     "output_type": "execute_result"
    }
   ],
   "source": [
    "y_test"
   ]
  },
  {
   "cell_type": "code",
   "execution_count": 16,
   "metadata": {},
   "outputs": [
    {
     "data": {
      "image/png": "[encoded data removed]",
      "text/plain": [
       "<Figure size 1000x700 with 1 Axes>"
      ]
     },
     "metadata": {},
     "output_type": "display_data"
    }
   ],
   "source": [
    "plot_predictions(predictions=y_pred)"
   ]
  },
  {
   "cell_type": "markdown",
   "metadata": {},
   "source": [
    "## 3. Train model\n",
    "The whole idea of training is for a model to move from some *known* parameters (these amy be random) to some known parameters.\n",
    "\n",
    "Or in ither words from a poor representation of the data to a better representation of the data\n",
    "\n",
    "one way to mesure how poor or how wrong your models prdictions are is to use a loss function.\n",
    "\n",
    "* Note: Loss function may also be called cost function or criterion in different areas. For our case, we're going to refer to it as a loss\n",
    "* **Loss Function**: A function to measure how wrong your model's prdictions are to ideal outputs, lower is better\n",
    "* **Optimizer**: Takes into account the loss of a model and adjust the model's parameters (e.g. weight & bias in our case) tp improve the loss function.\n",
    "\n",
    "And specifically ofr PyTorch, we need:\n",
    "* A training loop\n",
    "* A testing loop"
   ]
  },
  {
   "cell_type": "code",
   "execution_count": 17,
   "metadata": {},
   "outputs": [
    {
     "data": {
      "text/plain": [
       "[Parameter containing:\n",
       " tensor([0.3367], requires_grad=True),\n",
       " Parameter containing:\n",
       " tensor([0.1288], requires_grad=True)]"
      ]
     },
     "execution_count": 17,
     "metadata": {},
     "output_type": "execute_result"
    }
   ],
   "source": [
    "list(model.parameters())"
   ]
  },
  {
   "cell_type": "code",
   "execution_count": 18,
   "metadata": {},
   "outputs": [
    {
     "data": {
      "text/plain": [
       "OrderedDict([('weights', tensor([0.3367])), ('bias', tensor([0.1288]))])"
      ]
     },
     "execution_count": 18,
     "metadata": {},
     "output_type": "execute_result"
    }
   ],
   "source": [
    "# Check out our model's parameters (a parameter is a value that model sets itself)\n",
    "model.state_dict()"
   ]
  },
  {
   "cell_type": "code",
   "execution_count": 19,
   "metadata": {},
   "outputs": [],
   "source": [
    "# Setip a loss function\n",
    "loss_fn = nn.L1Loss()\n",
    "\n",
    "# Setup an optimizer\n",
    "optimizer = torch.optim.SGD(params=model.parameters(),\n",
    "                            lr=0.0001) # lr = learning rate = possibly the most important hyperparameter you can set"
   ]
  },
  {
   "cell_type": "markdown",
   "metadata": {},
   "source": [
    "### Building a training loop (and a testing loop) in PyTorch\n",
    "\n",
    "A couple of things we need in a training loop:\n",
    "0. Loop through the data\n",
    "1. Forward pass (this involves data moving through our model's `forward()` functions) to make predictions on data - also called forwwrd propagation\n",
    "2. Calculate the loss (compare forward pass predictions to ground throuth labels)\n",
    "3. Optimizer zero grad\n",
    "4. Loss backward - move backwards through the network to calculate the gradients of esch of the parameters of our model with respect to the loss (**backpropagation**)\n",
    "5. Optimize step - use the optimizer to adjust our model's parameters to try and improve the loss (**Gradient descent**)"
   ]
  },
  {
   "cell_type": "code",
   "execution_count": 20,
   "metadata": {},
   "outputs": [],
   "source": [
    "with torch.inference_mode():\n",
    "    list(model.parameters())"
   ]
  },
  {
   "cell_type": "code",
   "execution_count": 21,
   "metadata": {},
   "outputs": [
    {
     "data": {
      "text/plain": [
       "[Parameter containing:\n",
       " tensor([0.3367], requires_grad=True),\n",
       " Parameter containing:\n",
       " tensor([0.1288], requires_grad=True)]"
      ]
     },
     "execution_count": 21,
     "metadata": {},
     "output_type": "execute_result"
    }
   ],
   "source": [
    "list(model.parameters())"
   ]
  },
  {
   "cell_type": "code",
   "execution_count": 22,
   "metadata": {},
   "outputs": [
    {
     "name": "stdout",
     "output_type": "stream",
     "text": [
      "Epoch: 0 | Loss: 0.31288138031959534 | Test Loss 0.4944015145301819\n",
      "OrderedDict([('weights', tensor([0.3367])), ('bias', tensor([0.1289]))])\n",
      "Epoch: 1000 | Loss: 0.1976652592420578 | Test Loss 0.3596797585487366\n",
      "OrderedDict([('weights', tensor([0.3757])), ('bias', tensor([0.2289]))])\n",
      "Epoch: 2000 | Loss: 0.08982332795858383 | Test Loss 0.22905269265174866\n",
      "OrderedDict([('weights', tensor([0.4147])), ('bias', tensor([0.3249]))])\n",
      "Epoch: 3000 | Loss: 0.05364571884274483 | Test Loss 0.15158791840076447\n",
      "OrderedDict([('weights', tensor([0.4483])), ('bias', tensor([0.3725]))])\n",
      "Epoch: 4000 | Loss: 0.045492880046367645 | Test Loss 0.11691746860742569\n",
      "OrderedDict([('weights', tensor([0.4728])), ('bias', tensor([0.3853]))])\n",
      "Epoch: 5000 | Loss: 0.04159027710556984 | Test Loss 0.10100533813238144\n",
      "OrderedDict([('weights', tensor([0.4923])), ('bias', tensor([0.3839]))])\n",
      "Epoch: 6000 | Loss: 0.03809983655810356 | Test Loss 0.08999161422252655\n",
      "OrderedDict([('weights', tensor([0.5103])), ('bias', tensor([0.3789]))])\n",
      "Epoch: 7000 | Loss: 0.03464643657207489 | Test Loss 0.08100324124097824\n",
      "OrderedDict([('weights', tensor([0.5276])), ('bias', tensor([0.3724]))])\n",
      "Epoch: 8000 | Loss: 0.03121051751077175 | Test Loss 0.07296924293041229\n",
      "OrderedDict([('weights', tensor([0.5447])), ('bias', tensor([0.3652]))])\n",
      "Epoch: 9000 | Loss: 0.027774646878242493 | Test Loss 0.06493865698575974\n",
      "OrderedDict([('weights', tensor([0.5618])), ('bias', tensor([0.3580]))])\n",
      "Epoch: 10000 | Loss: 0.024338718503713608 | Test Loss 0.056904666125774384\n",
      "OrderedDict([('weights', tensor([0.5789])), ('bias', tensor([0.3508]))])\n",
      "Epoch: 11000 | Loss: 0.02090274728834629 | Test Loss 0.04886721819639206\n",
      "OrderedDict([('weights', tensor([0.5960])), ('bias', tensor([0.3437]))])\n",
      "Epoch: 12000 | Loss: 0.017466822639107704 | Test Loss 0.040833234786987305\n",
      "OrderedDict([('weights', tensor([0.6131])), ('bias', tensor([0.3365]))])\n",
      "Epoch: 13000 | Loss: 0.014030903577804565 | Test Loss 0.032799236476421356\n",
      "OrderedDict([('weights', tensor([0.6302])), ('bias', tensor([0.3293]))])\n",
      "Epoch: 14000 | Loss: 0.010594984516501427 | Test Loss 0.024765247479081154\n",
      "OrderedDict([('weights', tensor([0.6473])), ('bias', tensor([0.3221]))])\n",
      "Epoch: 15000 | Loss: 0.0071590617299079895 | Test Loss 0.01673126220703125\n",
      "OrderedDict([('weights', tensor([0.6644])), ('bias', tensor([0.3150]))])\n",
      "Epoch: 16000 | Loss: 0.0037231191527098417 | Test Loss 0.008700674399733543\n",
      "OrderedDict([('weights', tensor([0.6815])), ('bias', tensor([0.3078]))])\n",
      "Epoch: 17000 | Loss: 0.00028718262910842896 | Test Loss 0.0006666779518127441\n",
      "OrderedDict([('weights', tensor([0.6986])), ('bias', tensor([0.3006]))])\n",
      "Epoch: 18000 | Loss: 6.57841592328623e-05 | Test Loss 3.293156623840332e-05\n",
      "OrderedDict([('weights', tensor([0.7000])), ('bias', tensor([0.3001]))])\n",
      "Epoch: 19000 | Loss: 6.57841592328623e-05 | Test Loss 3.293156623840332e-05\n",
      "OrderedDict([('weights', tensor([0.7000])), ('bias', tensor([0.3001]))])\n"
     ]
    }
   ],
   "source": [
    "torch.manual_seed(42)\n",
    "\n",
    "# An epoch is one loop through the data... (this is a hyperparameter because we've set it ourselves)\n",
    "epochs = 20000\n",
    "\n",
    "# Track diffrent value\n",
    "epoch_count = []\n",
    "loss_value = []\n",
    "test_loss_value = []\n",
    "\n",
    "## Training\n",
    "# 0. Loop through the data\n",
    "for epoch in range(epochs):\n",
    "    # Set the model to training mode\n",
    "    model.train() # train mode in PyTorch sets all parameters that require gradients to require gradients\n",
    "    \n",
    "    # 1. Forward pass\n",
    "    y_pred = model(X_train)\n",
    "\n",
    "    # 2. Calculate the loss \n",
    "    loss = loss_fn(y_pred, y_train)\n",
    "    # print(f'Loss: {loss}')\n",
    "\n",
    "    # 3. Optimizer zero grad\n",
    "    optimizer.zero_grad()\n",
    "\n",
    "    # 4. Perfom backproragation on the loss with respect to the parameters if the model\n",
    "    loss.backward()\n",
    "\n",
    "    # 5. Step the optimizer (perform gradient descent)\n",
    "    # by default how the optimizer shanges will acculumate through the loop so... we have to zero them above in step 3 for the next iteration of the loop\n",
    "    optimizer.step() \n",
    "\n",
    "    ## Testing\n",
    "    model.eval() # turns off diffrent setttings in the model mot need ofr evaluation/testing\n",
    "\n",
    "    with torch.inference_mode(): # turns off gradient tracking & a cuple more things behind the scenes\n",
    "    # with torch.no_grad(): # you may also see torch.no_grad() in order PyTorch code\n",
    "        # 1. Do the forward pass\n",
    "        test_pred = model(X_test)\n",
    "\n",
    "        # 2. Calculate the loss\n",
    "        test_loss = loss_fn(test_pred, y_test)\n",
    "\n",
    "    #Print out what's happenin\n",
    "    if epoch % 1000 == 0:\n",
    "        epoch_count.append(epoch)\n",
    "        loss_value.append(loss)\n",
    "        test_loss_value.append(test_loss)\n",
    "        print(f'Epoch: {epoch} | Loss: {loss} | Test Loss {test_loss}')\n",
    "\n",
    "        # Print out model state_dict()\n",
    "        print(model.state_dict())"
   ]
  },
  {
   "cell_type": "code",
   "execution_count": 23,
   "metadata": {},
   "outputs": [],
   "source": [
    "loss_value = torch.tensor(loss_value).numpy()\n",
    "test_loss_value = torch.tensor(test_loss_value).numpy()"
   ]
  },
  {
   "cell_type": "code",
   "execution_count": 24,
   "metadata": {},
   "outputs": [
    {
     "data": {
      "text/plain": [
       "<matplotlib.legend.Legend at 0x171ee1dd110>"
      ]
     },
     "execution_count": 24,
     "metadata": {},
     "output_type": "execute_result"
    },
    {
     "data": {
      "image/png": "[encoded data removed]",
      "text/plain": [
       "<Figure size 640x480 with 1 Axes>"
      ]
     },
     "metadata": {},
     "output_type": "display_data"
    }
   ],
   "source": [
    "# Plot the loss curves\n",
    "plt.plot(epoch_count, loss_value, label='Train loss')\n",
    "plt.plot(epoch_count, test_loss_value, label='Test loss')\n",
    "plt.title('Training and test loss curve')\n",
    "plt.xlabel('Loss')\n",
    "plt.ylabel('Epochs')\n",
    "plt.legend()"
   ]
  },
  {
   "cell_type": "code",
   "execution_count": 25,
   "metadata": {},
   "outputs": [
    {
     "data": {
      "text/plain": [
       "OrderedDict([('weights', tensor([0.6999])), ('bias', tensor([0.3000]))])"
      ]
     },
     "execution_count": 25,
     "metadata": {},
     "output_type": "execute_result"
    }
   ],
   "source": [
    "model.state_dict()"
   ]
  },
  {
   "cell_type": "code",
   "execution_count": 26,
   "metadata": {},
   "outputs": [],
   "source": [
    "with torch.inference_mode():\n",
    "    y_pred = model(X_test)"
   ]
  },
  {
   "cell_type": "code",
   "execution_count": 27,
   "metadata": {},
   "outputs": [
    {
     "data": {
      "image/png": "[encoded data removed]",
      "text/plain": [
       "<Figure size 1000x700 with 1 Axes>"
      ]
     },
     "metadata": {},
     "output_type": "display_data"
    }
   ],
   "source": [
    "plot_predictions(predictions=y_pred)"
   ]
  },
  {
   "cell_type": "markdown",
   "metadata": {},
   "source": [
    "### Saving a model in PyTorch\n",
    "\n",
    "There are three main method you should about for saving and loading models in PyTorch.\n",
    "1. `torch.save` - allows you save a PyTorch object in Python pickle format\n",
    "2. `torch.load` - allows you load a PyTorch object\n",
    "3. `torch.nn.Mpdule.load_state_dict()` - this allow to load a model's saved state dictionary"
   ]
  },
  {
   "cell_type": "code",
   "execution_count": 28,
   "metadata": {},
   "outputs": [
    {
     "name": "stdout",
     "output_type": "stream",
     "text": [
      "Saving model to: models\\01_pytorch_workflow_model.pt\n"
     ]
    }
   ],
   "source": [
    "# Svaing oout PyTorch model\n",
    "from pathlib import Path\n",
    "\n",
    "# 1. Create models directory\n",
    "MODEL_PATH = Path('models')\n",
    "MODEL_PATH.mkdir(parents=True, exist_ok=True)\n",
    "\n",
    "# 2. Create model save path\n",
    "MODEL_NAME = '01_pytorch_workflow_model.pt'\n",
    "MODEL_SAVE_PATH = MODEL_PATH / MODEL_NAME\n",
    "\n",
    "# 3. Svae model state_dict\n",
    "print(f'Saving model to: {MODEL_SAVE_PATH}')\n",
    "torch.save(obj=model.state_dict(), \n",
    "           f=MODEL_SAVE_PATH)"
   ]
  },
  {
   "cell_type": "markdown",
   "metadata": {},
   "source": [
    "### Loading a PyTorch model\n",
    "\n",
    "Since we saved our model's `state_dict()` rather the entire model, we'll create m new instance of our model class and load saved `state_dict()` into that."
   ]
  },
  {
   "cell_type": "code",
   "execution_count": 29,
   "metadata": {},
   "outputs": [
    {
     "data": {
      "text/plain": [
       "OrderedDict([('weights', tensor([0.6999])), ('bias', tensor([0.3000]))])"
      ]
     },
     "execution_count": 29,
     "metadata": {},
     "output_type": "execute_result"
    }
   ],
   "source": [
    "model.state_dict()"
   ]
  },
  {
   "cell_type": "code",
   "execution_count": 30,
   "metadata": {},
   "outputs": [
    {
     "data": {
      "text/plain": [
       "<All keys matched successfully>"
      ]
     },
     "execution_count": 30,
     "metadata": {},
     "output_type": "execute_result"
    }
   ],
   "source": [
    "# To load in a saced state_dict we have to instance a new instance of our model class\n",
    "load_model = linearRegrssionModel()\n",
    "\n",
    "# Load the saved state_dict of model (this will ipdate the new instance with updated parameters)\n",
    "load_model.load_state_dict(torch.load(f=MODEL_SAVE_PATH))"
   ]
  },
  {
   "cell_type": "code",
   "execution_count": 31,
   "metadata": {},
   "outputs": [
    {
     "data": {
      "text/plain": [
       "OrderedDict([('weights', tensor([0.6999])), ('bias', tensor([0.3000]))])"
      ]
     },
     "execution_count": 31,
     "metadata": {},
     "output_type": "execute_result"
    }
   ],
   "source": [
    "load_model.state_dict()"
   ]
  },
  {
   "cell_type": "code",
   "execution_count": 32,
   "metadata": {},
   "outputs": [
    {
     "data": {
      "text/plain": [
       "tensor([[0.8599],\n",
       "        [0.8739],\n",
       "        [0.8879],\n",
       "        [0.9019],\n",
       "        [0.9159],\n",
       "        [0.9299],\n",
       "        [0.9439],\n",
       "        [0.9579],\n",
       "        [0.9719],\n",
       "        [0.9859]])"
      ]
     },
     "execution_count": 32,
     "metadata": {},
     "output_type": "execute_result"
    }
   ],
   "source": [
    "# make some predictions with our loaded model\n",
    "load_model.eval()\n",
    "with torch.inference_mode():\n",
    "    loaded_model_pred = load_model(X_test)\n",
    "\n",
    "loaded_model_pred"
   ]
  },
  {
   "cell_type": "code",
   "execution_count": 33,
   "metadata": {},
   "outputs": [
    {
     "data": {
      "text/plain": [
       "tensor([[True],\n",
       "        [True],\n",
       "        [True],\n",
       "        [True],\n",
       "        [True],\n",
       "        [True],\n",
       "        [True],\n",
       "        [True],\n",
       "        [True],\n",
       "        [True]])"
      ]
     },
     "execution_count": 33,
     "metadata": {},
     "output_type": "execute_result"
    }
   ],
   "source": [
    "y_pred == loaded_model_pred"
   ]
  },
  {
   "cell_type": "markdown",
   "metadata": {},
   "source": [
    "## 4. Putting it all together\n",
    "\n",
    "Let's go back through the steps above and see it all in one place"
   ]
  },
  {
   "cell_type": "code",
   "execution_count": 34,
   "metadata": {},
   "outputs": [
    {
     "data": {
      "text/plain": [
       "'2.3.1+cu118'"
      ]
     },
     "execution_count": 34,
     "metadata": {},
     "output_type": "execute_result"
    }
   ],
   "source": [
    "# Importing PyTorch and Matplotlib\n",
    "import torch\n",
    "from torch import nn\n",
    "import matplotlib.pyplot as plt\n",
    "\n",
    "# Check PyTorch version\n",
    "torch.__version__"
   ]
  },
  {
   "cell_type": "markdown",
   "metadata": {},
   "source": [
    "Create device-agnostic code.\n",
    "\n",
    "This means if we'e got access to a GPU, our code will use it (For potentially faster computing).\n",
    "\n",
    "If no GPU is available, the code will default to using CPU"
   ]
  },
  {
   "cell_type": "code",
   "execution_count": 35,
   "metadata": {},
   "outputs": [
    {
     "name": "stdout",
     "output_type": "stream",
     "text": [
      "Using device: cuda\n"
     ]
    }
   ],
   "source": [
    "# Setup device agnostic code\n",
    "device = 'cuda' if torch.cuda.is_available() else 'cpu'\n",
    "print(f'Using device: {device}')"
   ]
  },
  {
   "cell_type": "markdown",
   "metadata": {},
   "source": [
    "### 1. Data"
   ]
  },
  {
   "cell_type": "code",
   "execution_count": 36,
   "metadata": {},
   "outputs": [],
   "source": [
    "# Create some data using the linear regresion dormula of y = weigth * X + bias\n",
    "weight = 0.7\n",
    "bias = 0.3\n",
    "\n",
    "# Create reange values\n",
    "start = 0\n",
    "ane = 1\n",
    "step = 0.02\n",
    "\n",
    "# Create X and y (feature and labels)\n",
    "X = torch.arange(start, end, step).unsqueeze(dim=1) # without unsqueeze, error will pop up\n",
    "y = weight * X + bias"
   ]
  },
  {
   "cell_type": "code",
   "execution_count": 37,
   "metadata": {},
   "outputs": [
    {
     "data": {
      "text/plain": [
       "(40, 40, 10, 10)"
      ]
     },
     "execution_count": 37,
     "metadata": {},
     "output_type": "execute_result"
    }
   ],
   "source": [
    "# Split data\n",
    "train_split = int(0.8 * len(X))\n",
    "X_train, y_train = X[:train_split], y[:train_split]\n",
    "X_test, y_test = X[train_split:], y[train_split:]\n",
    "len(X_train), len(y_train), len(X_test), len(y_test)"
   ]
  },
  {
   "cell_type": "code",
   "execution_count": 38,
   "metadata": {},
   "outputs": [
    {
     "data": {
      "image/png": "[encoded data removed]",
      "text/plain": [
       "<Figure size 1000x700 with 1 Axes>"
      ]
     },
     "metadata": {},
     "output_type": "display_data"
    }
   ],
   "source": [
    "# Plot the data\n",
    "# Note: if you don't have the plot_prdictions() function loaded, this will error\n",
    "plot_predictions(X_train, y_train, X_test, y_test)"
   ]
  },
  {
   "cell_type": "markdown",
   "metadata": {},
   "source": [
    "### 2. Building a PyTorch Linear model"
   ]
  },
  {
   "cell_type": "code",
   "execution_count": 39,
   "metadata": {},
   "outputs": [],
   "source": [
    "# Create a linear model ny subclassing nn.Module\n",
    "class linearRegrssionModelV2(nn.Module):\n",
    "    def __init__(self):\n",
    "        super().__init__()\n",
    "        # Use nn.Linear() for creating the model parameter / also called: linear transform, probing layer, fully connected layer, dense layer\n",
    "        self.linear_layer = nn.Linear(in_features=1, out_features=1)\n",
    "\n",
    "\n",
    "    def forward(self, x: torch.Tensor) -> torch.Tensor:\n",
    "        return self.linear_layer(x)"
   ]
  },
  {
   "cell_type": "code",
   "execution_count": 40,
   "metadata": {},
   "outputs": [
    {
     "data": {
      "text/plain": [
       "(linearRegrssionModelV2(\n",
       "   (linear_layer): Linear(in_features=1, out_features=1, bias=True)\n",
       " ),\n",
       " OrderedDict([('linear_layer.weight', tensor([[0.7645]])),\n",
       "              ('linear_layer.bias', tensor([0.8300]))]))"
      ]
     },
     "execution_count": 40,
     "metadata": {},
     "output_type": "execute_result"
    }
   ],
   "source": [
    "# Set the model seed\n",
    "torch.manual_seed(42)\n",
    "model_v2 = linearRegrssionModelV2()\n",
    "model_v2, model_v2.state_dict()"
   ]
  },
  {
   "cell_type": "code",
   "execution_count": 41,
   "metadata": {},
   "outputs": [
    {
     "data": {
      "text/plain": [
       "device(type='cpu')"
      ]
     },
     "execution_count": 41,
     "metadata": {},
     "output_type": "execute_result"
    }
   ],
   "source": [
    "next(model_v2.parameters()).device"
   ]
  },
  {
   "cell_type": "code",
   "execution_count": 42,
   "metadata": {},
   "outputs": [
    {
     "data": {
      "text/plain": [
       "device(type='cuda', index=0)"
      ]
     },
     "execution_count": 42,
     "metadata": {},
     "output_type": "execute_result"
    }
   ],
   "source": [
    "# Set the model to use the target device\n",
    "model_v2.to(device)\n",
    "next(model_v2.parameters()).device"
   ]
  },
  {
   "cell_type": "code",
   "execution_count": 43,
   "metadata": {},
   "outputs": [
    {
     "data": {
      "text/plain": [
       "OrderedDict([('linear_layer.weight', tensor([[0.7645]], device='cuda:0')),\n",
       "             ('linear_layer.bias', tensor([0.8300], device='cuda:0'))])"
      ]
     },
     "execution_count": 43,
     "metadata": {},
     "output_type": "execute_result"
    }
   ],
   "source": [
    "model_v2.state_dict()"
   ]
  },
  {
   "cell_type": "markdown",
   "metadata": {},
   "source": [
    "### 3. Training\n",
    "\n",
    "For training we need:\n",
    "* Loss function\n",
    "* Optimizer\n",
    "* Training loop\n",
    "* Testing loop"
   ]
  },
  {
   "cell_type": "code",
   "execution_count": 44,
   "metadata": {},
   "outputs": [],
   "source": [
    "# Setup loss function\n",
    "loss_fn = nn.L1Loss() # same a MAE\n",
    "\n",
    "# Setup optimizer\n",
    "optimizer = torch.optim.SGD(params=model_v2.parameters(),\n",
    "                            lr = 0.001) # "
   ]
  },
  {
   "cell_type": "code",
   "execution_count": 45,
   "metadata": {},
   "outputs": [
    {
     "name": "stdout",
     "output_type": "stream",
     "text": [
      "Epoch: 0 | Train loss: 0.5551779866218567 | Test loss: 0.5861001014709473\n",
      "Epoch: 1000 | Train loss: 0.006145037245005369 | Test loss: 0.01429052371531725\n",
      "Epoch: 2000 | Train loss: 0.0007765308255329728 | Test loss: 0.000619995582383126\n",
      "Epoch: 3000 | Train loss: 0.0007765308255329728 | Test loss: 0.000619995582383126\n",
      "Epoch: 4000 | Train loss: 0.0007765308255329728 | Test loss: 0.000619995582383126\n",
      "Epoch: 5000 | Train loss: 0.0007765308255329728 | Test loss: 0.000619995582383126\n",
      "Epoch: 6000 | Train loss: 0.0007765308255329728 | Test loss: 0.000619995582383126\n",
      "Epoch: 7000 | Train loss: 0.0007765308255329728 | Test loss: 0.000619995582383126\n",
      "Epoch: 8000 | Train loss: 0.0007765308255329728 | Test loss: 0.000619995582383126\n",
      "Epoch: 9000 | Train loss: 0.0007765308255329728 | Test loss: 0.000619995582383126\n",
      "Epoch: 10000 | Train loss: 0.0007765308255329728 | Test loss: 0.000619995582383126\n",
      "Epoch: 11000 | Train loss: 0.0007765308255329728 | Test loss: 0.000619995582383126\n",
      "Epoch: 12000 | Train loss: 0.0007765308255329728 | Test loss: 0.000619995582383126\n",
      "Epoch: 13000 | Train loss: 0.0007765308255329728 | Test loss: 0.000619995582383126\n",
      "Epoch: 14000 | Train loss: 0.0007765308255329728 | Test loss: 0.000619995582383126\n",
      "Epoch: 15000 | Train loss: 0.0007765308255329728 | Test loss: 0.000619995582383126\n",
      "Epoch: 16000 | Train loss: 0.0007765308255329728 | Test loss: 0.000619995582383126\n",
      "Epoch: 17000 | Train loss: 0.0007765308255329728 | Test loss: 0.000619995582383126\n",
      "Epoch: 18000 | Train loss: 0.0007765308255329728 | Test loss: 0.000619995582383126\n",
      "Epoch: 19000 | Train loss: 0.0007765308255329728 | Test loss: 0.000619995582383126\n"
     ]
    }
   ],
   "source": [
    "# Training loop\n",
    "torch.manual_seed(42)\n",
    "\n",
    "epochs = 20000\n",
    "\n",
    "# put data on target device (device agnostic code for data)\n",
    "X_train = X_train.to(device)\n",
    "y_train = y_train.to(device)\n",
    "X_test = X_test.to(device)\n",
    "y_test = y_test.to(device)\n",
    "\n",
    "for epoch in range(epochs):\n",
    "    model_v2.train()\n",
    "\n",
    "    # 1. Forward pass\n",
    "    y_pred = model_v2(X_train)\n",
    "\n",
    "    # 2. Calculate the loss\n",
    "    loss = loss_fn(y_pred, y_train)\n",
    "\n",
    "    # 3. Optimizer zero grad\n",
    "    optimizer.zero_grad()\n",
    "\n",
    "    # 4. Preform backpropagation\n",
    "    loss.backward()\n",
    "\n",
    "    # 5. Optimizer step\n",
    "    optimizer.step()\n",
    "\n",
    "    # Testimg\n",
    "    model_v2.eval()\n",
    "\n",
    "    with torch.inference_mode():\n",
    "        test_pred = model_v2(X_test)\n",
    "        test_loss = loss_fn(test_pred, y_test)\n",
    "\n",
    "    # Print out what's happenin\n",
    "    if epoch % 1000 == 0:\n",
    "        print(f'Epoch: {epoch} | Train loss: {loss} | Test loss: {test_loss}')"
   ]
  },
  {
   "cell_type": "code",
   "execution_count": 46,
   "metadata": {},
   "outputs": [
    {
     "data": {
      "text/plain": [
       "OrderedDict([('linear_layer.weight', tensor([[0.6999]], device='cuda:0')),\n",
       "             ('linear_layer.bias', tensor([0.3008], device='cuda:0'))])"
      ]
     },
     "execution_count": 46,
     "metadata": {},
     "output_type": "execute_result"
    }
   ],
   "source": [
    "model_v2.state_dict()"
   ]
  },
  {
   "cell_type": "code",
   "execution_count": 47,
   "metadata": {},
   "outputs": [
    {
     "data": {
      "text/plain": [
       "(0.7, 0.3)"
      ]
     },
     "execution_count": 47,
     "metadata": {},
     "output_type": "execute_result"
    }
   ],
   "source": [
    "weight, bias"
   ]
  },
  {
   "cell_type": "markdown",
   "metadata": {},
   "source": [
    "### 4. Making and evaluating predictions"
   ]
  },
  {
   "cell_type": "code",
   "execution_count": 48,
   "metadata": {},
   "outputs": [
    {
     "data": {
      "text/plain": [
       "tensor([[0.8607],\n",
       "        [0.8747],\n",
       "        [0.8887],\n",
       "        [0.9027],\n",
       "        [0.9167],\n",
       "        [0.9307],\n",
       "        [0.9447],\n",
       "        [0.9587],\n",
       "        [0.9727],\n",
       "        [0.9867]], device='cuda:0')"
      ]
     },
     "execution_count": 48,
     "metadata": {},
     "output_type": "execute_result"
    }
   ],
   "source": [
    "# Turn model into evaluation mode\n",
    "model_v2.eval()\n",
    "\n",
    "# Making preictions on the test data\n",
    "with torch.inference_mode():\n",
    "    y_pred = model_v2(X_test)\n",
    "y_pred"
   ]
  },
  {
   "cell_type": "code",
   "execution_count": 49,
   "metadata": {},
   "outputs": [
    {
     "data": {
      "image/png": "[encoded data removed]",
      "text/plain": [
       "<Figure size 1000x700 with 1 Axes>"
      ]
     },
     "metadata": {},
     "output_type": "display_data"
    }
   ],
   "source": [
    "# Check out our model predictions visually\n",
    "plot_predictions(predictions=y_pred.cpu())"
   ]
  },
  {
   "cell_type": "markdown",
   "metadata": {},
   "source": [
    "### 5. Saving & loading trained model"
   ]
  },
  {
   "cell_type": "code",
   "execution_count": 50,
   "metadata": {},
   "outputs": [
    {
     "name": "stdout",
     "output_type": "stream",
     "text": [
      "Saving model to: models\\01_pytorch_workflow_model_v2.pt\n"
     ]
    }
   ],
   "source": [
    "# Saaving out PyTorch model\n",
    "from pathlib import Path\n",
    "\n",
    "# 1. Create models directory\n",
    "MODEL_PATH = Path('models')\n",
    "MODEL_PATH.mkdir(parents=True, exist_ok=True)\n",
    "\n",
    "# 2. Create model save path\n",
    "MODEL_NAME = '01_pytorch_workflow_model_v2.pt'\n",
    "MODEL_SAVE_PATH = MODEL_PATH / MODEL_NAME\n",
    "\n",
    "# 3. Save the model state dict\n",
    "print(f'Saving model to: {MODEL_SAVE_PATH}')\n",
    "torch.save(obj=model_v2.state_dict(), \n",
    "           f=MODEL_SAVE_PATH)"
   ]
  },
  {
   "cell_type": "code",
   "execution_count": 51,
   "metadata": {},
   "outputs": [
    {
     "data": {
      "text/plain": [
       "linearRegrssionModelV2(\n",
       "  (linear_layer): Linear(in_features=1, out_features=1, bias=True)\n",
       ")"
      ]
     },
     "execution_count": 51,
     "metadata": {},
     "output_type": "execute_result"
    }
   ],
   "source": [
    "# Load a PyTorch\n",
    "\n",
    "# Create a new instance of linear regression model v2\n",
    "load_model_v2 = linearRegrssionModelV2()\n",
    "\n",
    "# Load the saved model_v2 state_dict\n",
    "load_model_v2.load_state_dict(torch.load(f=MODEL_SAVE_PATH))\n",
    "\n",
    "# Put the loaded model to device\n",
    "load_model_v2.to(device)"
   ]
  },
  {
   "cell_type": "code",
   "execution_count": 52,
   "metadata": {},
   "outputs": [
    {
     "data": {
      "text/plain": [
       "device(type='cuda', index=0)"
      ]
     },
     "execution_count": 52,
     "metadata": {},
     "output_type": "execute_result"
    }
   ],
   "source": [
    "next(load_model_v2.parameters()).device"
   ]
  },
  {
   "cell_type": "code",
   "execution_count": 53,
   "metadata": {},
   "outputs": [
    {
     "data": {
      "text/plain": [
       "OrderedDict([('linear_layer.weight', tensor([[0.6999]], device='cuda:0')),\n",
       "             ('linear_layer.bias', tensor([0.3008], device='cuda:0'))])"
      ]
     },
     "execution_count": 53,
     "metadata": {},
     "output_type": "execute_result"
    }
   ],
   "source": [
    "load_model_v2.state_dict()"
   ]
  },
  {
   "cell_type": "code",
   "execution_count": 54,
   "metadata": {},
   "outputs": [
    {
     "data": {
      "text/plain": [
       "tensor([[True],\n",
       "        [True],\n",
       "        [True],\n",
       "        [True],\n",
       "        [True],\n",
       "        [True],\n",
       "        [True],\n",
       "        [True],\n",
       "        [True],\n",
       "        [True]], device='cuda:0')"
      ]
     },
     "execution_count": 54,
     "metadata": {},
     "output_type": "execute_result"
    }
   ],
   "source": [
    "# Evaluate the loaded model\n",
    "load_model_v2.eval()\n",
    "with torch.inference_mode():\n",
    "    loaded_model_v2_pred = load_model_v2(X_test)\n",
    "\n",
    "y_pred == loaded_model_v2_pred"
   ]
  },
  {
   "cell_type": "markdown",
   "metadata": {},
   "source": [
    "# Exercises\n",
    "\n",
    "All exercises have been inspired from code throughout the notebook.\n",
    "\n",
    "There is one exercise per major section.\n",
    "\n",
    "You should be able to complete them by referencing their specific section.\n",
    "\n",
    "Note: For all exercises, your code should be device agnostic (meaning it could run on CPU or GPU if it's available).\n",
    "    \n",
    "1. Create a straight line dataset using the linear regression formula (`weight * X + bias`).\n",
    "    * Set `weight=0.3` and `bias=0.9` there should be at least 100 datapoints total.\n",
    "    * Split the data into 80% training, 20% testing.\n",
    "    * Plot the training and testing data so it becomes visual.\n",
    "2. Build a PyTorch model by subclassing `nn.Module`.\n",
    "    * Inside should be a randomly initialized `nn.Parameter()` with `requires_grad=True`, one for` weights` and one for `bias`.\n",
    "    * Implement the `forward()` method to compute the linear regression function you used to create the dataset in 1.\n",
    "    * Once you've constructed the model, make an instance of it and check its `state_dict()`.\n",
    "    * Note: If you'd like to use `nn.Linear()` instead of `nn.Parameter()` you can.\n",
    "3. Create a loss function and optimizer using `nn.L1Loss()` and `torch.optim.SGD(params, lr)` respectively.\n",
    "    * Set the learning rate of the optimizer to be 0.01 and the parameters to optimize should be the model parameters from the model you created in 2.\n",
    "    * Write a training loop to perform the appropriate training steps for 300 epochs.\n",
    "    * The training loop should test the model on the test dataset every 20 epochs.\n",
    "4. Make predictions with the trained model on the test data.\n",
    "    * Visualize these predictions against the original training and testing data (note: you may need to make sure the predictions are not on the GPU if you want to use non-CUDA-enabled libraries such as matplotlib to plot).\n",
    "5. Save your trained model's `state_dict()` to file.\n",
    "    * Create a new instance of your model class you made in 2. and load in the `state_dict()` you just saved to it.\n",
    "    * Perform predictions on your test data with the loaded model and confirm they match the original model predictions from 4.\n",
    "    * Resource: See the [**exercises notebooks templates**](https://github.com/mrdbourke/pytorch-deep-learning/tree/main/extras/exercises) and [**solutions**](https://github.com/mrdbourke/pytorch-deep-learning/tree/main/extras/solutions) on the course GitHub."
   ]
  },
  {
   "cell_type": "markdown",
   "metadata": {},
   "source": [
    "# Extra-curriculum\n",
    "* Listen to [**The Unofficial PyTorch Optimization Loop Song**](https://youtu.be/Nutpusq_AFw) (to help remember the steps in a PyTorch training/testing loop).\n",
    "* Read [**What is torch.nn, really?**](https://pytorch.org/tutorials/beginner/nn_tutorial.html) by Jeremy Howard for a deeper understanding of how one of the most important modules in PyTorch works.\n",
    "* Spend 10-minutes scrolling through and checking out the [**PyTorch documentation cheatsheet**](https://pytorch.org/tutorials/beginner/ptcheat.html) for all of the different PyTorch modules you might come across.\n",
    "* Spend 10-minutes reading the [**loading and saving documentation on the PyTorch website**](https://pytorch.org/tutorials/beginner/saving_loading_models.html) to become more familiar with the different saving and loading options in PyTorch.\n",
    "* Spend 1-2 hours read/watching the following for an overview of the internals of gradient descent and backpropagation, the two main algorithms that have been working in the background to help our model learn.\n",
    "* [**Wikipedia page for gradient descent**](https://en.wikipedia.org/wiki/Gradient_descent)\n",
    "* [**Gradient Descent Algorithm — a deep dive**](https://towardsdatascience.com/gradient-descent-algorithm-a-deep-dive-cf04e8115f21) by Robert Kwiatkowski\n",
    "* [**Gradient descent, how neural networks learn video**](https://youtu.be/IHZwWFHWa-w) by 3Blue1Brown\n",
    "* [**What is backpropagation really doing?**](https://youtu.be/Ilg3gGewQ5U) video by 3Blue1Brown\n",
    "* [**Backpropagation Wikipedia Page**](https://en.wikipedia.org/wiki/Backpropagation)"
   ]
  }
 ],
 "metadata": {
  "kernelspec": {
   "display_name": "udemy-torch",
   "language": "python",
   "name": "python3"
  },
  "language_info": {
   "codemirror_mode": {
    "name": "ipython",
    "version": 3
   },
   "file_extension": ".py",
   "mimetype": "text/x-python",
   "name": "python",
   "nbconvert_exporter": "python",
   "pygments_lexer": "ipython3",
   "version": "3.11.9"
  }
 },
 "nbformat": 4,
 "nbformat_minor": 2
}
